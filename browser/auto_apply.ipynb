{
 "cells": [
  {
   "cell_type": "code",
   "execution_count": 1,
   "id": "9390a351-5723-4aeb-8e1c-d00d72244af8",
   "metadata": {},
   "outputs": [
    {
     "name": "stdout",
     "output_type": "stream",
     "text": [
      "INFO     [browser_use] BrowserUse logging setup complete with level info\n",
      "INFO     [root] Anonymized telemetry enabled. See https://docs.browser-use.com/development/telemetry for more information.\n"
     ]
    }
   ],
   "source": [
    "from browser_use import Agent\n",
    "from dotenv import load_dotenv\n",
    "load_dotenv()\n",
    "\n",
    "import asyncio\n",
    "import nest_asyncio\n",
    "\n",
    "nest_asyncio.apply()\n",
    "\n"
   ]
  },
  {
   "cell_type": "code",
   "execution_count": 2,
   "id": "1ada8295-f8f9-4412-bdbb-dd1ae8fb4176",
   "metadata": {},
   "outputs": [],
   "source": [
    "from langchain_google_genai import ChatGoogleGenerativeAI\n",
    "\n",
    "llm = ChatGoogleGenerativeAI(\n",
    "    model=\"gemini-2.0-flash\", #gemini-2.5-pro-exp-03-25\n",
    "    temperature=0,\n",
    "    max_tokens=None,\n",
    "    timeout=None,\n",
    "    max_retries=2,\n",
    "    # other params...\n",
    ")"
   ]
  },
  {
   "cell_type": "code",
   "execution_count": 3,
   "id": "367eb577-8437-4ce9-a418-120b65f922ae",
   "metadata": {},
   "outputs": [],
   "source": [
    "llm = ChatGoogleGenerativeAI(\n",
    "    model=\"gemini-2.5-pro-exp-03-25\", #gemini-2.5-pro-exp-03-25\n",
    "    temperature=0,\n",
    "    max_tokens=None,\n",
    "    timeout=None,\n",
    "    max_retries=2,\n",
    "    # other params...\n",
    ")"
   ]
  },
  {
   "cell_type": "code",
   "execution_count": 4,
   "id": "6f720d73-9981-486b-acce-019baef2a96a",
   "metadata": {},
   "outputs": [],
   "source": [
    "from browser_use import Agent\n",
    "import asyncio\n",
    "from browser_use import Browser\n",
    "from browser_use import BrowserConfig\n",
    "\n",
    "# Basic configuration\n",
    "config = BrowserConfig(\n",
    "    headless=True,\n",
    "    disable_security=True\n",
    ")\n",
    "\n",
    "browser = Browser(config=config)\n",
    "\n",
    "\n",
    "\n",
    "async def main():\n",
    "    agent = Agent(\n",
    "        task=\"Compare the price of gpt-4o and DeepSeek-V3\",\n",
    "        llm=llm,\n",
    "        browser=browser,\n",
    "        retry_delay=20,\n",
    "        max_actions_per_step=15\n",
    "    )\n",
    "    result = await agent.run()\n",
    "    return result\n"
   ]
  },
  {
   "cell_type": "code",
   "execution_count": 5,
   "id": "a82a3491-1ded-498a-88d8-8cd3b1e1af98",
   "metadata": {},
   "outputs": [],
   "source": [
    "sensitive_data = {'first_name': 'magnus', 'last_name': 'Carlson', 'email': 'abc@cb.com', \"phone\": \"1255532\", 'available_from': \"April 5, 2025\", \n",
    "                 'desired_salary': \"20k $\", \"resume_path\": \"/home/xai/projects/ai-playground/browser/tmp.txt\", \"years_of_experience\": \"5\"}\n",
    "\n",
    "sensitive_data = {\"first_name\": \"tej\", \"email\": \"tej@abc.com\", \"years_of_experience\": \"2\"}\n",
    "initial_actions = [\n",
    "\t{'open_tab': {'url': 'http://localhost:8001/static/index.html'}},\n",
    "]\n",
    "initial_actions = [\n",
    "\t{'open_tab': {'url': 'https://job-boards.eu.greenhouse.io/groww/jobs/4528265101'}},\n",
    "]\n",
    "\n"
   ]
  },
  {
   "cell_type": "code",
   "execution_count": 6,
   "id": "9f2b0536-7bf6-4a5f-96b9-a7e2832f8e7c",
   "metadata": {},
   "outputs": [],
   "source": [
    "import os\n",
    "import sys\n",
    "from pathlib import Path\n",
    "\n",
    "from browser_use.agent.views import ActionResult\n",
    "\n",
    "sys.path.append(os.path.dirname(os.path.dirname(os.path.abspath(\"auto_apply.ipynb\"))))\n",
    "import asyncio\n",
    "import logging\n",
    "\n",
    "\n",
    "from browser_use import Agent, Controller\n",
    "from browser_use.browser.browser import Browser, BrowserConfig\n",
    "from browser_use.browser.context import BrowserContext\n",
    "\n",
    "logger = logging.getLogger(__name__)\n",
    "\n",
    "from pydantic import BaseModel\n",
    "\n",
    "class ApplicationStatus(BaseModel):\n",
    "    job_title: str\n",
    "    job_company: str\n",
    "    status: bool\n",
    "    reason: str\n",
    "\n",
    "\n",
    "controller = Controller(output_model=ApplicationStatus)\n",
    "\n",
    "\n",
    "@controller.action(\n",
    "\t'Upload file to interactive element with file path ',\n",
    ")\n",
    "async def upload_file(index: int, path: str, browser: BrowserContext, available_file_paths: list[str]):\n",
    "\tif path not in available_file_paths:\n",
    "\t\treturn ActionResult(error=f'File path {path} is not available')\n",
    "\n",
    "\tif not os.path.exists(path):\n",
    "\t\treturn ActionResult(error=f'File {path} does not exist')\n",
    "\n",
    "\tdom_el = await browser.get_dom_element_by_index(index)\n",
    "\n",
    "\tfile_upload_dom_el = dom_el.get_file_upload_element()\n",
    "\n",
    "\tif file_upload_dom_el is None:\n",
    "\t\tmsg = f'No file upload element found at index {index}'\n",
    "\t\tlogger.info(msg)\n",
    "\t\treturn ActionResult(error=msg)\n",
    "\n",
    "\tfile_upload_el = await browser.get_locate_element(file_upload_dom_el)\n",
    "\n",
    "\tif file_upload_el is None:\n",
    "\t\tmsg = f'No file upload element found at index {index}'\n",
    "\t\tlogger.info(msg)\n",
    "\t\treturn ActionResult(error=msg)\n",
    "\n",
    "\ttry:\n",
    "\t\tawait file_upload_el.set_input_files(path)\n",
    "\t\tmsg = f'Successfully uploaded file to index {index}'\n",
    "\t\tlogger.info(msg)\n",
    "\t\treturn ActionResult(extracted_content=msg, include_in_memory=True)\n",
    "\texcept Exception as e:\n",
    "\t\tmsg = f'Failed to upload file to index {index}: {str(e)}'\n",
    "\t\tlogger.info(msg)\n",
    "\t\treturn ActionResult(error=msg)\n"
   ]
  },
  {
   "cell_type": "code",
   "execution_count": 9,
   "id": "3be8ba94-98f0-4467-9a54-23747b526a1a",
   "metadata": {},
   "outputs": [],
   "source": [
    "from browser_use import Agent\n",
    "import asyncio\n",
    "from browser_use import Browser\n",
    "from browser_use import BrowserConfig\n",
    "from browser_use import Controller, ActionResult\n",
    "# Initialize the controller\n",
    "# controller = Controller()\n",
    "from typing import Optional\n",
    "\n",
    "@controller.action('Ask human in case you need anything')\n",
    "def ask_human(question: str) -> str:\n",
    "    answer = input(f'\\n{question}\\nInput: ')\n",
    "    return ActionResult(extracted_content=answer)\n",
    "\n",
    "from langchain_core.messages import HumanMessage, SystemMessage\n",
    "from browser_use import Agent, SystemPrompt\n",
    "\n",
    "class MySystemPrompt(SystemPrompt):\n",
    "    \"\"\"\n",
    "    A SystemPrompt specifically designed for web browsing tasks,\n",
    "    adding relevant instructions automatically via get_system_message.\n",
    "    \"\"\"\n",
    "    # Define the specific message for this class\n",
    "    _SPECIFIC_EXTENSION = (\n",
    "        \"IMPORTANT RULE: Cancel the task if you can't find relevant data required to fill the application. But fill the details that you find relevant but do not submit. Check the job requirement and cancel if the job requires more than 3 YOE.\"\n",
    "    )\n",
    "\n",
    "    # No need to override __init__ unless adding new parameters specific to the child\n",
    "    # The parent __init__ already does what's needed (loads the template).\n",
    "    # We *could* explicitly call super().__init__ for clarity/future-proofing:\n",
    "    # def __init__(self, action_description: str, max_actions_per_step: int = 10):\n",
    "    #     super().__init__(action_description, max_actions_per_step)\n",
    "\n",
    "    def get_system_message(self):\n",
    "        \"\"\"\n",
    "        Get the system prompt, appending specific task instructions.\n",
    "\n",
    "        Returns:\n",
    "            SystemMessage: Formatted system prompt with added instructions.\n",
    "        \"\"\"\n",
    "        # 1. Get the original SystemMessage from the parent class method\n",
    "        original_message = super().get_system_message()\n",
    "\n",
    "        # 2. Get the content of the original message\n",
    "        original_content = original_message.content\n",
    "\n",
    "        # 3. Append the specific extension for this class\n",
    "        extended_content = original_content + \"\\n\\n\" + self._SPECIFIC_EXTENSION\n",
    "\n",
    "        # 4. Create and return a *new* SystemMessage with the extended content\n",
    "        return SystemMessage(content=extended_content)\n",
    "\n",
    "\n",
    "# class MySystemPrompt(SystemPrompt):\n",
    "#     def __init__(self) -> str:\n",
    "#         # Get existing rules from parent class\n",
    "#         super().__init__()\n",
    "\n",
    "#         # Add your custom rules\n",
    "#         new_rules = \"\"\"\n",
    "# 9. MOST IMPORTANT RULE:\n",
    "# - Fill the details using provided fields only do not fill random data, if there is no data cancel the task.\n",
    "\n",
    "# \"\"\"\n",
    "\n",
    "#         # Make sure to use this pattern otherwise the exiting rules will be lost\n",
    "#         return f'{existing_rules}\\n{new_rules}'\n",
    "\n",
    "\n",
    "\n",
    "agent = Agent(\n",
    "    task=\"Try to fill the job application\",\n",
    "    initial_actions=initial_actions,\n",
    "    controller=controller,\n",
    "    llm=llm,   \n",
    "    browser=browser,\n",
    "    retry_delay=20,\n",
    "    max_actions_per_step=15,\n",
    "    sensitive_data=sensitive_data,\n",
    "    available_file_paths=[\"/home/xai/projects/ai-playground/browser/tmp.txt\"],\n",
    "    system_prompt_class=MySystemPrompt,\n",
    "    # message_context=\"Do not fill random data, if there is no data cancel the task.\",\n",
    "    generate_gif=True\n",
    "\n",
    ")\n",
    "\n",
    "    \n",
    "# Basic configuration\n",
    "config = BrowserConfig(\n",
    "    headless=True,\n",
    "    disable_security=True\n",
    ")\n",
    "\n",
    "browser = Browser(config=config)\n",
    "async def main():\n",
    "    result = await agent.run()\n",
    "    return result\n"
   ]
  },
  {
   "cell_type": "code",
   "execution_count": 10,
   "id": "88ddd5a9-e74d-4d99-9a39-2e175f277a12",
   "metadata": {},
   "outputs": [
    {
     "name": "stdout",
     "output_type": "stream",
     "text": [
      "INFO     [agent] 🚀 Starting task: Try to fill the job application\n",
      "INFO     [controller] 🔗  Opened new tab with https://job-boards.eu.greenhouse.io/groww/jobs/4528265101\n",
      "INFO     [agent] 📍 Step 1\n",
      "INFO     [agent] 🤷 Eval: Unknown\n",
      "INFO     [agent] 🧠 Memory: I have opened the job application page for Web Developer - SDE II at Groww. I need to check the job requirements, specifically the years of experience, before proceeding.\n",
      "INFO     [agent] 🎯 Next goal: Extract job requirements to check Years of Experience (YOE).\n",
      "INFO     [agent] 🛠️  Action 1/1: {\"extract_content\":{\"goal\":\"Extract the job requirements, specifically the years of experience required.\"}}\n",
      "INFO     [controller] 📄  Extracted from page\n",
      ": ```json\n",
      "{\n",
      "  \"years_of_experience_required\": \"3+ years\"\n",
      "}\n",
      "```\n",
      "\n",
      "INFO     [agent] 📍 Step 2\n",
      "INFO     [agent] 👍 Eval: Success\n",
      "INFO     [agent] 🧠 Memory: I extracted the job requirements. The job requires 3+ years of experience.\n",
      "INFO     [agent] 🎯 Next goal: Cancel the application process as the required years of experience (3+) exceed the maximum allowed (3).\n",
      "INFO     [agent] 🛠️  Action 1/1: {\"done\":{\"job_title\":\"Web Developer - SDE II\",\"job_company\":\"Groww\",\"status\":false,\"reason\":\"The job requires 3+ years of experience, which is more than the maximum allowed 3 YOE.\",\"success\":false}}\n",
      "INFO     [agent] 📄 Result: {\"job_title\": \"Web Developer - SDE II\", \"job_company\": \"Groww\", \"status\": false, \"reason\": \"The job requires 3+ years of experience, which is more than the maximum allowed 3 YOE.\"}\n",
      "INFO     [agent] ✅ Task completed\n",
      "INFO     [agent] ❌ Unfinished\n",
      "INFO     [agent] Created GIF at agent_history.gif\n"
     ]
    }
   ],
   "source": [
    "res = await main()"
   ]
  },
  {
   "cell_type": "code",
   "execution_count": 11,
   "id": "d62e21ba-aec8-4311-b2d4-fef63767f49a",
   "metadata": {},
   "outputs": [],
   "source": [
    "result = res.final_result()\n"
   ]
  },
  {
   "cell_type": "code",
   "execution_count": 12,
   "id": "85e24b5f-7ab9-4dc6-ba86-193330c2ec1d",
   "metadata": {},
   "outputs": [
    {
     "data": {
      "text/plain": [
       "'{\"job_title\": \"Web Developer - SDE II\", \"job_company\": \"Groww\", \"status\": false, \"reason\": \"The job requires 3+ years of experience, which is more than the maximum allowed 3 YOE.\"}'"
      ]
     },
     "execution_count": 12,
     "metadata": {},
     "output_type": "execute_result"
    }
   ],
   "source": [
    "result"
   ]
  },
  {
   "cell_type": "code",
   "execution_count": 14,
   "id": "950d09aa-0ac2-47b6-98a4-bd11f825c228",
   "metadata": {},
   "outputs": [],
   "source": [
    "parsed: ApplicationStatus = ApplicationStatus.model_validate_json(result)\n"
   ]
  },
  {
   "cell_type": "code",
   "execution_count": 15,
   "id": "19e07e88-b54b-4a67-9c8a-9df52f8cab22",
   "metadata": {},
   "outputs": [
    {
     "data": {
      "text/plain": [
       "ApplicationStatus(job_title='Web Developer - SDE II', job_company='Groww', status=False, reason='The job requires 3+ years of experience, which is more than the maximum allowed 3 YOE.')"
      ]
     },
     "execution_count": 15,
     "metadata": {},
     "output_type": "execute_result"
    }
   ],
   "source": [
    "parsed"
   ]
  },
  {
   "cell_type": "code",
   "execution_count": null,
   "id": "037a34e6-19cc-463e-a80c-b81df5a92b25",
   "metadata": {},
   "outputs": [],
   "source": []
  },
  {
   "cell_type": "code",
   "execution_count": null,
   "id": "f637d4e7-bd04-40cb-b96f-60a497f0a0b9",
   "metadata": {},
   "outputs": [],
   "source": []
  },
  {
   "cell_type": "code",
   "execution_count": null,
   "id": "332629c0-d4a5-4d99-a6b8-c604d7e196c1",
   "metadata": {},
   "outputs": [],
   "source": []
  },
  {
   "cell_type": "code",
   "execution_count": null,
   "id": "3c0fc820-4a5d-40c4-8fc5-3ec60fc893a9",
   "metadata": {},
   "outputs": [],
   "source": [
    "class MySystemPrompt(SystemPrompt):\n",
    "    \"\"\"\n",
    "    A SystemPrompt specifically designed for web browsing tasks,\n",
    "    adding relevant instructions automatically.\n",
    "    \"\"\"\n",
    "    # Define the specific message for this class\n",
    "    _SPECIFIC_EXTENSION = (\n",
    "        \"When browsing websites, focus on extracting the requested information efficiently. \"\n",
    "        \"Avoid getting stuck on irrelevant details or complex JavaScript interactions unless necessary.\"\n",
    "    )\n",
    "\n",
    "    def __init__(\n",
    "        self,\n",
    "        action_description: str,\n",
    "        max_actions_per_step: int = 10,\n",
    "        override_system_message: Optional[str] = None,\n",
    "        # You can still allow *further* extensions if desired\n",
    "        extend_system_message: Optional[str] = None,\n",
    "    ):\n",
    "        # 1. Prepare the full extension message:\n",
    "        #    Start with the specific message for this class.\n",
    "        #    Then, append any *additional* extension provided when creating an instance.\n",
    "        final_extension = self._SPECIFIC_EXTENSION\n",
    "        if extend_system_message:\n",
    "            final_extension += f\"\\n{extend_system_message}\"\n",
    "\n",
    "        # 2. Call the parent class's __init__ method.\n",
    "        #    Pass all the standard arguments.\n",
    "        #    Pass our 'final_extension' as the 'extend_system_message' argument\n",
    "        #    to the parent initializer. The parent will handle appending it.\n",
    "        super().__init__(\n",
    "            action_description=action_description,\n",
    "            max_actions_per_step=max_actions_per_step,\n",
    "            override_system_message=override_system_message,\n",
    "            extend_system_message=final_extension, # Pass the combined/specific extension here\n",
    "        )\n",
    "\n",
    "        # No further steps needed here, as super().__init__ already\n",
    "        # constructed the final prompt and assigned it to self.system_message.\n"
   ]
  }
 ],
 "metadata": {
  "kernelspec": {
   "display_name": "Python 3 (ipykernel)",
   "language": "python",
   "name": "python3"
  },
  "language_info": {
   "codemirror_mode": {
    "name": "ipython",
    "version": 3
   },
   "file_extension": ".py",
   "mimetype": "text/x-python",
   "name": "python",
   "nbconvert_exporter": "python",
   "pygments_lexer": "ipython3",
   "version": "3.11.2"
  }
 },
 "nbformat": 4,
 "nbformat_minor": 5
}

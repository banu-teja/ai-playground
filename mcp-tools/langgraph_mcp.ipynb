{
 "cells": [
  {
   "cell_type": "code",
   "execution_count": 19,
   "id": "c289cc63-f913-430e-973c-10f6cfaa946a",
   "metadata": {},
   "outputs": [
    {
     "data": {
      "text/plain": [
       "True"
      ]
     },
     "execution_count": 19,
     "metadata": {},
     "output_type": "execute_result"
    }
   ],
   "source": [
    "from dotenv import load_dotenv\n",
    "load_dotenv(\"../browser/.env\")\n"
   ]
  },
  {
   "cell_type": "code",
   "execution_count": 20,
   "id": "1e9a850c-3444-47d9-8c92-2cc655233b47",
   "metadata": {},
   "outputs": [],
   "source": [
    "from mcp import ClientSession, StdioServerParameters\n",
    "from mcp.client.stdio import stdio_client\n",
    "\n",
    "from langchain_mcp_adapters.tools import load_mcp_tools\n",
    "from langgraph.prebuilt import create_react_agent\n",
    "\n"
   ]
  },
  {
   "cell_type": "code",
   "execution_count": null,
   "id": "67054771-a3c1-4deb-a8f0-65404894f94d",
   "metadata": {},
   "outputs": [],
   "source": [
    "from langchain_google_genai import ChatGoogleGenerativeAI\n",
    "\n",
    "model = ChatGoogleGenerativeAI(\n",
    "    model=\"gemini-2.5-pro-exp-03-25\", #gemini-2.5-pro-exp-03-25\n",
    "    temperature=0,\n",
    "    max_tokens=None,\n",
    "    timeout=None,\n",
    "    max_retries=2,\n",
    "    # other params...\n",
    ")\n",
    "\n",
    "server_params = StdioServerParameters(\n",
    "    command=\"npx\",\n",
    "    # Make sure to update to the full absolute path to your math_server.py file\n",
    "    args=[\n",
    "        \"-y\",\n",
    "        \"-q\",\n",
    "        \"@supabase/mcp-server-supabase@latest\",\n",
    "        \"--access-token\",\n",
    "        os.getenv(\"SUPABASE_TOKEN\")\n",
    "      ],\n",
    ")\n",
    "\n",
    "async with stdio_client(server_params) as (read, write):\n",
    "    async with ClientSession(read, write) as session:\n",
    "        # Initialize the connection\n",
    "        await session.initialize()\n",
    "\n",
    "        # Get tools\n",
    "        tools = await load_mcp_tools(session)\n",
    "        # print(tools)\n",
    "\n",
    "        # Create and run the agent\n",
    "        agent = create_react_agent(model, tools)\n",
    "        agent_response = await agent.ainvoke({\"messages\": \"list all my projects\"})"
   ]
  },
  {
   "cell_type": "code",
   "execution_count": null,
   "id": "236e416a-b6c9-44df-a8e2-435b911498c9",
   "metadata": {},
   "outputs": [],
   "source": [
    "from IPython.display import Markdown, display\n",
    "\n",
    "display(Markdown(agent_response['messages'][-1].content))"
   ]
  },
  {
   "cell_type": "code",
   "execution_count": null,
   "id": "36265313-7dbc-450c-8dbf-8d7ecd096a0f",
   "metadata": {
    "scrolled": true
   },
   "outputs": [],
   "source": [
    "async with stdio_client(server_params) as (read, write):\n",
    "    async with ClientSession(read, write) as session:\n",
    "        # Initialize the connection\n",
    "        await session.initialize()\n",
    "\n",
    "        # Get tools\n",
    "        tools = await load_mcp_tools(session)\n",
    "        # print(tools)\n",
    "\n",
    "        # Create and run the agent\n",
    "        agent = create_react_agent(model, tools)\n",
    "        agent_response = await agent.ainvoke({\"messages\": \"what is the status of webui project\"})"
   ]
  },
  {
   "cell_type": "code",
   "execution_count": 13,
   "id": "7c917bfa-3021-4a6c-9118-0effce6a8fca",
   "metadata": {},
   "outputs": [
    {
     "data": {
      "text/markdown": [
       "The project \"webui\" is currently ACTIVE_HEALTHY."
      ],
      "text/plain": [
       "<IPython.core.display.Markdown object>"
      ]
     },
     "metadata": {},
     "output_type": "display_data"
    }
   ],
   "source": [
    "display(Markdown(agent_response['messages'][-1].content))"
   ]
  },
  {
   "cell_type": "code",
   "execution_count": null,
   "id": "e6c9a985-c1b5-404d-a61d-c6723279ee30",
   "metadata": {},
   "outputs": [],
   "source": [
    "async with stdio_client(server_params) as (read, write):\n",
    "    async with ClientSession(read, write) as session:\n",
    "        # Initialize the connection\n",
    "        await session.initialize()\n",
    "\n",
    "        # Get tools\n",
    "        tools = await load_mcp_tools(session)\n",
    "        # print(tools)\n",
    "\n",
    "        # Create and run the agent\n",
    "        agent = create_react_agent(model, tools)\n",
    "        agent_response = await agent.ainvoke({\"messages\": \"list my current projects without id\"})\n",
    "\n",
    "display(Markdown(agent_response['messages'][-1].content))"
   ]
  },
  {
   "cell_type": "code",
   "execution_count": 25,
   "id": "6a4dd630-1c42-4f9f-b65a-a678c529a80f",
   "metadata": {},
   "outputs": [
    {
     "data": {
      "text/markdown": [
       "Okay, here are your current projects with their names, regions, and statuses:\n",
       "\n",
       "1.  **Name:** webui\n",
       "    *   **Region:** ap-south-1\n",
       "    *   **Status:** ACTIVE_HEALTHY\n",
       "2.  **Name:** url-shortner\n",
       "    *   **Region:** ap-south-1\n",
       "    *   **Status:** ACTIVE_HEALTHY"
      ],
      "text/plain": [
       "<IPython.core.display.Markdown object>"
      ]
     },
     "metadata": {},
     "output_type": "display_data"
    }
   ],
   "source": [
    "display(Markdown(agent_response['messages'][-1].content))"
   ]
  },
  {
   "cell_type": "code",
   "execution_count": null,
   "id": "81a19fd8-9d47-4442-af65-7a2e65b54c1e",
   "metadata": {},
   "outputs": [],
   "source": []
  }
 ],
 "metadata": {
  "kernelspec": {
   "display_name": "Python 3 (ipykernel)",
   "language": "python",
   "name": "python3"
  },
  "language_info": {
   "codemirror_mode": {
    "name": "ipython",
    "version": 3
   },
   "file_extension": ".py",
   "mimetype": "text/x-python",
   "name": "python",
   "nbconvert_exporter": "python",
   "pygments_lexer": "ipython3",
   "version": "3.11.2"
  }
 },
 "nbformat": 4,
 "nbformat_minor": 5
}

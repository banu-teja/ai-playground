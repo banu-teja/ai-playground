{
 "cells": [
  {
   "cell_type": "code",
   "execution_count": 1,
   "id": "0538bad2-8df8-4198-848b-1286ae4ecb9c",
   "metadata": {},
   "outputs": [],
   "source": [
    "import nest_asyncio # required for notebooks\n",
    "nest_asyncio.apply()\n"
   ]
  },
  {
   "cell_type": "code",
   "execution_count": 2,
   "id": "d5c28ff2-f821-4431-8e1f-3ab96c02c6bd",
   "metadata": {},
   "outputs": [
    {
     "data": {
      "text/plain": [
       "True"
      ]
     },
     "execution_count": 2,
     "metadata": {},
     "output_type": "execute_result"
    }
   ],
   "source": [
    "import os\n",
    "from dotenv import load_dotenv\n",
    "\n",
    "from openai import AsyncAzureOpenAI\n",
    "from agents import set_default_openai_client, set_tracing_disabled, Agent, Runner, OpenAIChatCompletionsModel\n",
    "\n",
    "\n",
    "load_dotenv(\"../.env\")"
   ]
  },
  {
   "cell_type": "code",
   "execution_count": 3,
   "id": "8e8ea360-0e7b-4d38-933e-23b1f0113520",
   "metadata": {},
   "outputs": [],
   "source": [
    "api_key = os.getenv(\"AZURE_OPENAI_API_KEY\")\n",
    "api_version = os.getenv(\"OPENAI_API_VERSION\") \n",
    "azure_endpoint = os.getenv(\"AZURE_OPENAI_ENDPOINT\")\n",
    "azure_deployment=os.getenv(\"AZURE_DEPLOYMENT\")\n"
   ]
  },
  {
   "cell_type": "code",
   "execution_count": 14,
   "id": "6f358635-47ca-4ad3-ad1d-fdd31ca51407",
   "metadata": {},
   "outputs": [],
   "source": [
    "openai_client = AsyncAzureOpenAI(\n",
    "      api_key=api_key,\n",
    "    api_version=api_version,\n",
    "    azure_endpoint=azure_endpoint,\n",
    "    azure_deployment=azure_deployment\n",
    ")\n",
    "\n",
    "set_default_openai_client(openai_client)\n",
    "# Disable tracing since Azure doesn't support it\n",
    "set_tracing_disabled(True)\n",
    "\n",
    "agent = Agent(\n",
    "    name=\"Assistant\",\n",
    "    instructions=\"You are a helpful assistant\",\n",
    "    model=OpenAIChatCompletionsModel(\n",
    "        model=azure_deployment,\n",
    "        openai_client=openai_client,\n",
    "    ),\n",
    "    # model_settings=ModelSettings(temperature=0.5),\n",
    ")"
   ]
  },
  {
   "cell_type": "code",
   "execution_count": 9,
   "id": "98731bdd-0a11-46c4-8183-62a57698a637",
   "metadata": {},
   "outputs": [],
   "source": [
    "result = Runner.run_sync(agent, \"Write a haiku about recursion in programming.\")"
   ]
  },
  {
   "cell_type": "code",
   "execution_count": 10,
   "id": "4b3a6b6b-c915-4e49-b803-41d7a96b1559",
   "metadata": {},
   "outputs": [
    {
     "data": {
      "text/plain": [
       "RunResult(input='Write a haiku about recursion in programming.', new_items=[MessageOutputItem(agent=Agent(name='Assistant', instructions='You are a helpful assistant', handoff_description=None, handoffs=[], model=<agents.models.openai_chatcompletions.OpenAIChatCompletionsModel object at 0x7f4ee9c34a10>, model_settings=ModelSettings(temperature=None, top_p=None, frequency_penalty=None, presence_penalty=None, tool_choice=None, parallel_tool_calls=False, truncation=None), tools=[], input_guardrails=[], output_guardrails=[], output_type=None, hooks=None), raw_item=ResponseOutputMessage(id='__fake_id__', content=[ResponseOutputText(annotations=[], text='Function calls itself,  \\neach call a mirror of code,  \\nloops become endless.', type='output_text')], role='assistant', status='completed', type='message'), type='message_output_item')], raw_responses=[ModelResponse(output=[ResponseOutputMessage(id='__fake_id__', content=[ResponseOutputText(annotations=[], text='Function calls itself,  \\neach call a mirror of code,  \\nloops become endless.', type='output_text')], role='assistant', status='completed', type='message')], usage=Usage(requests=1, input_tokens=24, output_tokens=669, total_tokens=693), referenceable_id=None)], final_output='Function calls itself,  \\neach call a mirror of code,  \\nloops become endless.', input_guardrail_results=[], output_guardrail_results=[], _last_agent=Agent(name='Assistant', instructions='You are a helpful assistant', handoff_description=None, handoffs=[], model=<agents.models.openai_chatcompletions.OpenAIChatCompletionsModel object at 0x7f4ee9c34a10>, model_settings=ModelSettings(temperature=None, top_p=None, frequency_penalty=None, presence_penalty=None, tool_choice=None, parallel_tool_calls=False, truncation=None), tools=[], input_guardrails=[], output_guardrails=[], output_type=None, hooks=None))"
      ]
     },
     "execution_count": 10,
     "metadata": {},
     "output_type": "execute_result"
    }
   ],
   "source": [
    "result"
   ]
  },
  {
   "cell_type": "code",
   "execution_count": 11,
   "id": "45845392-2cd7-4964-b5b9-7791a6aa6eae",
   "metadata": {},
   "outputs": [
    {
     "name": "stdout",
     "output_type": "stream",
     "text": [
      "Function calls itself,  \n",
      "each call a mirror of code,  \n",
      "loops become endless.\n"
     ]
    }
   ],
   "source": [
    "print(result.final_output)"
   ]
  },
  {
   "cell_type": "code",
   "execution_count": null,
   "id": "4846a9d3-4343-49d0-8f28-f35af813b53c",
   "metadata": {},
   "outputs": [],
   "source": []
  },
  {
   "cell_type": "code",
   "execution_count": 26,
   "id": "a00ee601-8dbe-4b5c-8635-94e17fff22b3",
   "metadata": {},
   "outputs": [
    {
     "name": "stdout",
     "output_type": "stream",
     "text": [
      "\n"
     ]
    }
   ],
   "source": [
    "import asyncio\n",
    "\n",
    "async def main():\n",
    "    response = await openai_client.responses.create(\n",
    "        model=azure_deployment,\n",
    "        tools=[{\n",
    "            \"type\": \"browser\",\n",
    "            \"display_width\": 1024,\n",
    "            \"display_height\": 768,\n",
    "            \"environment\": \"computer-preview\" # other possible values: \"mac\", \"windows\", \"ubuntu\"\n",
    "        }],\n",
    "        input=[\n",
    "            {\n",
    "                \"role\": \"user\",\n",
    "                \"content\": \"Check the latest OpenAI news on bing.com.\"\n",
    "            }\n",
    "            # Optional: include a screenshot of the initial state of the environment\n",
    "            # {\n",
    "            #     type: \"input_image\",\n",
    "            #     image_url: f\"data:image/png;base64,{screenshot_base64}\"\n",
    "            # }\n",
    "        ],\n",
    "        truncation=\"auto\"\n",
    "    )\n",
    "\n",
    "    print(response)\n",
    "\n",
    "asyncio.run(main())\n"
   ]
  },
  {
   "cell_type": "code",
   "execution_count": 4,
   "id": "871e5485-d167-45a3-a8ba-dcd7ec049eac",
   "metadata": {},
   "outputs": [],
   "source": [
    "from openai import AzureOpenAI\n",
    "openai_client = AzureOpenAI(\n",
    "      api_key=api_key,\n",
    "    api_version=api_version,\n",
    "    azure_endpoint=azure_endpoint,\n",
    "    azure_deployment=azure_deployment\n",
    ")\n"
   ]
  },
  {
   "cell_type": "code",
   "execution_count": 8,
   "id": "c8ef434b-2e76-480e-919e-8fcf55fe6d8e",
   "metadata": {},
   "outputs": [
    {
     "ename": "AttributeError",
     "evalue": "'str' object has no attribute 'output_text'",
     "output_type": "error",
     "traceback": [
      "\u001b[31m---------------------------------------------------------------------------\u001b[39m",
      "\u001b[31mAttributeError\u001b[39m                            Traceback (most recent call last)",
      "\u001b[36mCell\u001b[39m\u001b[36m \u001b[39m\u001b[32mIn[8]\u001b[39m\u001b[32m, line 6\u001b[39m\n\u001b[32m      1\u001b[39m response = openai_client.responses.create(\n\u001b[32m      2\u001b[39m     model=\u001b[33m\"\u001b[39m\u001b[33mgpt-4o\u001b[39m\u001b[33m\"\u001b[39m,\n\u001b[32m      3\u001b[39m     \u001b[38;5;28minput\u001b[39m=\u001b[33m\"\u001b[39m\u001b[33mWrite a one-sentence bedtime story about a unicorn.\u001b[39m\u001b[33m\"\u001b[39m\n\u001b[32m      4\u001b[39m )\n\u001b[32m----> \u001b[39m\u001b[32m6\u001b[39m \u001b[38;5;28mprint\u001b[39m(\u001b[43mresponse\u001b[49m\u001b[43m.\u001b[49m\u001b[43moutput_text\u001b[49m)\n",
      "\u001b[31mAttributeError\u001b[39m: 'str' object has no attribute 'output_text'"
     ]
    }
   ],
   "source": [
    "response = openai_client.responses.create(\n",
    "    model=\"gpt-4o\",\n",
    "\n",
    "    input=\"Write a one-sentence bedtime story about a unicorn.\"\n",
    ")\n",
    "\n",
    "print(response.output_text)\n"
   ]
  },
  {
   "cell_type": "code",
   "execution_count": null,
   "id": "00dce8de-c226-473b-8b89-a69a042a2b20",
   "metadata": {},
   "outputs": [],
   "source": []
  }
 ],
 "metadata": {
  "kernelspec": {
   "display_name": "Python 3 (ipykernel)",
   "language": "python",
   "name": "python3"
  },
  "language_info": {
   "codemirror_mode": {
    "name": "ipython",
    "version": 3
   },
   "file_extension": ".py",
   "mimetype": "text/x-python",
   "name": "python",
   "nbconvert_exporter": "python",
   "pygments_lexer": "ipython3",
   "version": "3.11.2"
  }
 },
 "nbformat": 4,
 "nbformat_minor": 5
}
